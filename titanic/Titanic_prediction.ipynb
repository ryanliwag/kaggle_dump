{
 "cells": [
  {
   "cell_type": "code",
   "execution_count": 129,
   "metadata": {
    "collapsed": true,
    "deletable": true,
    "editable": true
   },
   "outputs": [],
   "source": [
    "#Import Libraries\n",
    "from matplotlib import pyplot as plt\n",
    "import sklearn\n",
    "import pandas as pd\n",
    "import numpy as np\n",
    "import xgboost as xgb"
   ]
  },
  {
   "cell_type": "code",
   "execution_count": 130,
   "metadata": {
    "collapsed": true,
    "deletable": true,
    "editable": true
   },
   "outputs": [],
   "source": [
    "#Import Datasets\n",
    "\n",
    "train_dataset = pd.read_csv(\"dataset/train.csv\")\n",
    "test_dataset = pd.read_csv(\"dataset/test.csv\")"
   ]
  },
  {
   "cell_type": "code",
   "execution_count": 131,
   "metadata": {
    "collapsed": false,
    "deletable": true,
    "editable": true
   },
   "outputs": [],
   "source": [
    "# Combine the 2 datasets for preprocessing \n",
    "def combined_dataset(train_data, test_data):\n",
    "    train_data = train_data.drop([\"Survived\"], axis=1)\n",
    "    combined = train_data.append(test_data)\n",
    "    combined.reset_index().drop([\"index\"], axis=1)\n",
    "    combined = combined.drop([\"PassengerId\"], axis=1)\n",
    "    return combined\n",
    "\n",
    "data = combined_dataset(train_dataset, test_dataset)"
   ]
  },
  {
   "cell_type": "code",
   "execution_count": 132,
   "metadata": {
    "collapsed": false
   },
   "outputs": [],
   "source": [
    "# Process Pclass\n",
    "def process_Pclass(data):\n",
    "    if not data.Pclass.isnull().any():\n",
    "        one_hot_pclass = pd.DataFrame(pd.get_dummies(data[\"Pclass\"], prefix=\"Pclass_\"))\n",
    "        data = pd.concat([data, one_hot_pclass], axis=1)\n",
    "        data = data.reset_index().drop([\"index\"], axis=1)\n",
    "        return data\n",
    "    else:\n",
    "        print(\"null data in Pclass\")\n",
    "           \n",
    "data = process_Pclass(data)"
   ]
  },
  {
   "cell_type": "code",
   "execution_count": 133,
   "metadata": {
    "collapsed": false,
    "deletable": true,
    "editable": true
   },
   "outputs": [],
   "source": [
    "# Process Sex\n",
    "data['Sex'].replace(to_replace=dict(female=0, male=1), inplace=True)"
   ]
  },
  {
   "cell_type": "code",
   "execution_count": 134,
   "metadata": {
    "collapsed": false,
    "scrolled": true
   },
   "outputs": [],
   "source": [
    "# Process Titles\n",
    "Title_Dictionary = {\n",
    "    \"Capt\": \"Officer\",\n",
    "    \"Col\": \"Officer\",\n",
    "    \"Major\": \"Officer\",\n",
    "    \"Jonkheer\": \"Royalty\",\n",
    "    \"Don\": \"Royalty\",\n",
    "    \"Sir\" : \"Royalty\",\n",
    "    \"Dr\": \"Officer\",\n",
    "    \"Rev\": \"Officer\",\n",
    "    \"the Countess\":\"Royalty\",\n",
    "    \"Mme\": \"Mrs\",\n",
    "    \"Mlle\": \"Miss\",\n",
    "    \"Ms\": \"Mrs\",\n",
    "    \"Mr\" : \"Mr\",\n",
    "    \"Mrs\" : \"Mrs\",\n",
    "    \"Miss\" : \"Miss\",\n",
    "    \"Master\" : \"Master\",\n",
    "    \"Lady\" : \"Royalty\"\n",
    "}\n",
    "\n",
    "def process_Titles(data):\n",
    "    global Title_Dictionary\n",
    "    \n",
    "    data['title'] = data['Name'].map(lambda x: x.split(',')[1].split('.')[0].strip())\n",
    "    data['title'] = data.title.map(Title_Dictionary)\n",
    "    one_hot_title = pd.DataFrame(pd.get_dummies(data[\"title\"], prefix=\"title_\"))\n",
    "    data = pd.concat([data, one_hot_title], axis=1)\n",
    "    return data\n",
    "\n",
    "data = process_Titles(data)\n",
    "    "
   ]
  },
  {
   "cell_type": "code",
   "execution_count": 135,
   "metadata": {
    "collapsed": false,
    "deletable": true,
    "editable": true
   },
   "outputs": [],
   "source": [
    "# Process age\n",
    "grouped_train = data.iloc[:891].groupby(['Sex','Pclass','title'])\n",
    "grouped_median_train = grouped_train.median()\n",
    "grouped_median_train = grouped_median_train.reset_index()[['Sex', 'Pclass', 'title', 'Age']]\n",
    "\n",
    "def fill_age(row):\n",
    "    condition = (\n",
    "        (grouped_median_train['Sex'] == row['Sex']) & \n",
    "        (grouped_median_train['title'] == row['title']) & \n",
    "        (grouped_median_train['Pclass'] == row['Pclass'])\n",
    "    ) \n",
    "    return grouped_median_train[condition]['Age'].values[0]\n",
    "\n",
    "def group_age(data):\n",
    "    data[\"children\"] = data[\"Age\"].map(lambda s: 1 if s < 18 else 0)\n",
    "    data[\"young_adults\"] = data[\"Age\"].map(lambda s: 1 if s >= 18 and s < 36 else 0)\n",
    "    data[\"middle_age\"] = data[\"Age\"].map(lambda s: 1 if s >= 36 and s < 56 else 0)\n",
    "    data[\"old\"] = data[\"Age\"].map(lambda s: 1 if s >= 56 else 0)\n",
    "    return data\n",
    "\n",
    "def process_age(data):   \n",
    "\n",
    "    data['Age'] = data.apply(lambda row: fill_age(row) if np.isnan(row['Age']) else row['Age'], axis=1)\n",
    "    return group_age(data)\n",
    "\n",
    "data = process_age(data)\n"
   ]
  },
  {
   "cell_type": "code",
   "execution_count": 136,
   "metadata": {
    "collapsed": false,
    "deletable": true,
    "editable": true
   },
   "outputs": [],
   "source": [
    "# process embarked \n",
    "def process_Embarked(data):\n",
    "    # most common is \"S\"\n",
    "    data.Embarked.fillna('S', inplace=True)\n",
    "\n",
    "    one_hot_embarked = pd.get_dummies(data[\"Embarked\"], prefix=\"Embarked_\")\n",
    "    data = pd.concat([data, one_hot_embarked], axis=1)\n",
    "    return data\n",
    "\n",
    "data = process_Embarked(data)"
   ]
  },
  {
   "cell_type": "code",
   "execution_count": 137,
   "metadata": {
    "collapsed": false,
    "deletable": true,
    "editable": true
   },
   "outputs": [],
   "source": [
    "def process_family(data):\n",
    "    # introducing a new feature : the size of families (including the passenger)\n",
    "    data['FamilySize'] = data['Parch'] + data['SibSp'] + 1\n",
    "    \n",
    "    # introducing other features based on the family size\n",
    "    data['Singleton'] = data['FamilySize'].map(lambda s: 1 if s == 1 else 0)\n",
    "    data['SmallFamily'] = data['FamilySize'].map(lambda s: 1 if 2 <= s <= 4 else 0)\n",
    "    data['LargeFamily'] = data['FamilySize'].map(lambda s: 1 if 5 <= s else 0)\n",
    "    \n",
    "    return data\n",
    "\n",
    "data = process_family(data)"
   ]
  },
  {
   "cell_type": "code",
   "execution_count": 138,
   "metadata": {
    "collapsed": false,
    "deletable": true,
    "editable": true
   },
   "outputs": [],
   "source": [
    "# process fare\n",
    "data.Fare.fillna(data.iloc[:891].Fare.mean(), inplace=True)"
   ]
  },
  {
   "cell_type": "code",
   "execution_count": 140,
   "metadata": {
    "collapsed": false,
    "deletable": true,
    "editable": true,
    "scrolled": false
   },
   "outputs": [],
   "source": [
    "# process ticket\n",
    "\n",
    "def process_ticket(data):\n",
    "    # a function that extracts each prefix of the ticket, returns 'XXX' if no prefix (i.e the ticket is a digit)\n",
    "    def cleanTicket(ticket):\n",
    "        ticket = ticket.replace('.','')\n",
    "        ticket = ticket.replace('/','')\n",
    "        ticket = ticket.split()\n",
    "        ticket = map(lambda t : t.strip(), ticket)\n",
    "        ticket = list(filter(lambda t : not t.isdigit(), ticket))\n",
    "        if len(ticket) > 0:\n",
    "            return ticket[0]\n",
    "        else: \n",
    "            return 'XXX'\n",
    "\n",
    "    data['Ticket'] = data['Ticket'].map(cleanTicket)\n",
    "    tickets_dummies = pd.get_dummies(data['Ticket'], prefix='Ticket')\n",
    "    data = pd.concat([data, tickets_dummies], axis=1)\n",
    "\n",
    "    return data\n",
    "\n",
    "data = process_ticket(data)"
   ]
  },
  {
   "cell_type": "code",
   "execution_count": 141,
   "metadata": {
    "collapsed": false,
    "deletable": true,
    "editable": true
   },
   "outputs": [],
   "source": [
    "def process_cabin(data):\n",
    "  \n",
    "    # replacing missing cabins with U (for Uknown)\n",
    "    data.Cabin.fillna('U', inplace=True)\n",
    "    \n",
    "    data['Cabin'] = data['Cabin'].map(lambda c: c[0])\n",
    "    cabin_dummies = pd.get_dummies(data['Cabin'], prefix='Cabin')    \n",
    "    data = pd.concat([data, cabin_dummies], axis=1)\n",
    "\n",
    "    return data\n",
    "\n",
    "data = process_cabin(data)"
   ]
  },
  {
   "cell_type": "code",
   "execution_count": 142,
   "metadata": {
    "collapsed": false
   },
   "outputs": [],
   "source": [
    "# Drop columns that are un needed\n",
    "data.drop([\"Pclass\", \"Name\", \n",
    "           \"SibSp\", \"Parch\", \n",
    "           \"Ticket\", \"Cabin\",\n",
    "           \"Embarked\", \"title\",\n",
    "           \"Age\"], axis=1, inplace=True)\n"
   ]
  },
  {
   "cell_type": "code",
   "execution_count": 144,
   "metadata": {
    "collapsed": false,
    "scrolled": false
   },
   "outputs": [
    {
     "data": {
      "text/html": [
       "<div>\n",
       "<style scoped>\n",
       "    .dataframe tbody tr th:only-of-type {\n",
       "        vertical-align: middle;\n",
       "    }\n",
       "\n",
       "    .dataframe tbody tr th {\n",
       "        vertical-align: top;\n",
       "    }\n",
       "\n",
       "    .dataframe thead th {\n",
       "        text-align: right;\n",
       "    }\n",
       "</style>\n",
       "<table border=\"1\" class=\"dataframe\">\n",
       "  <thead>\n",
       "    <tr style=\"text-align: right;\">\n",
       "      <th></th>\n",
       "      <th>Sex</th>\n",
       "      <th>Age</th>\n",
       "      <th>Fare</th>\n",
       "      <th>Pclass__1</th>\n",
       "      <th>Pclass__2</th>\n",
       "      <th>Pclass__3</th>\n",
       "      <th>title__Master</th>\n",
       "      <th>title__Miss</th>\n",
       "      <th>title__Mr</th>\n",
       "      <th>title__Mrs</th>\n",
       "      <th>...</th>\n",
       "      <th>Ticket_XXX</th>\n",
       "      <th>Cabin_A</th>\n",
       "      <th>Cabin_B</th>\n",
       "      <th>Cabin_C</th>\n",
       "      <th>Cabin_D</th>\n",
       "      <th>Cabin_E</th>\n",
       "      <th>Cabin_F</th>\n",
       "      <th>Cabin_G</th>\n",
       "      <th>Cabin_T</th>\n",
       "      <th>Cabin_U</th>\n",
       "    </tr>\n",
       "  </thead>\n",
       "  <tbody>\n",
       "    <tr>\n",
       "      <th>0</th>\n",
       "      <td>1</td>\n",
       "      <td>22.0</td>\n",
       "      <td>7.2500</td>\n",
       "      <td>0</td>\n",
       "      <td>0</td>\n",
       "      <td>1</td>\n",
       "      <td>0</td>\n",
       "      <td>0</td>\n",
       "      <td>1</td>\n",
       "      <td>0</td>\n",
       "      <td>...</td>\n",
       "      <td>0</td>\n",
       "      <td>0</td>\n",
       "      <td>0</td>\n",
       "      <td>0</td>\n",
       "      <td>0</td>\n",
       "      <td>0</td>\n",
       "      <td>0</td>\n",
       "      <td>0</td>\n",
       "      <td>0</td>\n",
       "      <td>1</td>\n",
       "    </tr>\n",
       "    <tr>\n",
       "      <th>1</th>\n",
       "      <td>0</td>\n",
       "      <td>38.0</td>\n",
       "      <td>71.2833</td>\n",
       "      <td>1</td>\n",
       "      <td>0</td>\n",
       "      <td>0</td>\n",
       "      <td>0</td>\n",
       "      <td>0</td>\n",
       "      <td>0</td>\n",
       "      <td>1</td>\n",
       "      <td>...</td>\n",
       "      <td>0</td>\n",
       "      <td>0</td>\n",
       "      <td>0</td>\n",
       "      <td>1</td>\n",
       "      <td>0</td>\n",
       "      <td>0</td>\n",
       "      <td>0</td>\n",
       "      <td>0</td>\n",
       "      <td>0</td>\n",
       "      <td>0</td>\n",
       "    </tr>\n",
       "    <tr>\n",
       "      <th>2</th>\n",
       "      <td>0</td>\n",
       "      <td>26.0</td>\n",
       "      <td>7.9250</td>\n",
       "      <td>0</td>\n",
       "      <td>0</td>\n",
       "      <td>1</td>\n",
       "      <td>0</td>\n",
       "      <td>1</td>\n",
       "      <td>0</td>\n",
       "      <td>0</td>\n",
       "      <td>...</td>\n",
       "      <td>0</td>\n",
       "      <td>0</td>\n",
       "      <td>0</td>\n",
       "      <td>0</td>\n",
       "      <td>0</td>\n",
       "      <td>0</td>\n",
       "      <td>0</td>\n",
       "      <td>0</td>\n",
       "      <td>0</td>\n",
       "      <td>1</td>\n",
       "    </tr>\n",
       "    <tr>\n",
       "      <th>3</th>\n",
       "      <td>0</td>\n",
       "      <td>35.0</td>\n",
       "      <td>53.1000</td>\n",
       "      <td>1</td>\n",
       "      <td>0</td>\n",
       "      <td>0</td>\n",
       "      <td>0</td>\n",
       "      <td>0</td>\n",
       "      <td>0</td>\n",
       "      <td>1</td>\n",
       "      <td>...</td>\n",
       "      <td>1</td>\n",
       "      <td>0</td>\n",
       "      <td>0</td>\n",
       "      <td>1</td>\n",
       "      <td>0</td>\n",
       "      <td>0</td>\n",
       "      <td>0</td>\n",
       "      <td>0</td>\n",
       "      <td>0</td>\n",
       "      <td>0</td>\n",
       "    </tr>\n",
       "    <tr>\n",
       "      <th>4</th>\n",
       "      <td>1</td>\n",
       "      <td>35.0</td>\n",
       "      <td>8.0500</td>\n",
       "      <td>0</td>\n",
       "      <td>0</td>\n",
       "      <td>1</td>\n",
       "      <td>0</td>\n",
       "      <td>0</td>\n",
       "      <td>1</td>\n",
       "      <td>0</td>\n",
       "      <td>...</td>\n",
       "      <td>1</td>\n",
       "      <td>0</td>\n",
       "      <td>0</td>\n",
       "      <td>0</td>\n",
       "      <td>0</td>\n",
       "      <td>0</td>\n",
       "      <td>0</td>\n",
       "      <td>0</td>\n",
       "      <td>0</td>\n",
       "      <td>1</td>\n",
       "    </tr>\n",
       "  </tbody>\n",
       "</table>\n",
       "<p>5 rows × 69 columns</p>\n",
       "</div>"
      ],
      "text/plain": [
       "   Sex   Age     Fare  Pclass__1  Pclass__2  Pclass__3  title__Master  \\\n",
       "0    1  22.0   7.2500          0          0          1              0   \n",
       "1    0  38.0  71.2833          1          0          0              0   \n",
       "2    0  26.0   7.9250          0          0          1              0   \n",
       "3    0  35.0  53.1000          1          0          0              0   \n",
       "4    1  35.0   8.0500          0          0          1              0   \n",
       "\n",
       "   title__Miss  title__Mr  title__Mrs   ...     Ticket_XXX  Cabin_A  Cabin_B  \\\n",
       "0            0          1           0   ...              0        0        0   \n",
       "1            0          0           1   ...              0        0        0   \n",
       "2            1          0           0   ...              0        0        0   \n",
       "3            0          0           1   ...              1        0        0   \n",
       "4            0          1           0   ...              1        0        0   \n",
       "\n",
       "   Cabin_C  Cabin_D  Cabin_E  Cabin_F  Cabin_G  Cabin_T  Cabin_U  \n",
       "0        0        0        0        0        0        0        1  \n",
       "1        1        0        0        0        0        0        0  \n",
       "2        0        0        0        0        0        0        1  \n",
       "3        1        0        0        0        0        0        0  \n",
       "4        0        0        0        0        0        0        1  \n",
       "\n",
       "[5 rows x 69 columns]"
      ]
     },
     "execution_count": 144,
     "metadata": {},
     "output_type": "execute_result"
    }
   ],
   "source": [
    "data.head()\n",
    "\n",
    "#combined[\"Age\"] = combined.groupby(['Sex','Pclass','Title'])['Age'].transform(lambda x: x.fillna(x.median()))"
   ]
  },
  {
   "cell_type": "code",
   "execution_count": 157,
   "metadata": {
    "collapsed": false
   },
   "outputs": [],
   "source": [
    "X = data[:891]\n",
    "y = train_dataset[\"Survived\"]"
   ]
  },
  {
   "cell_type": "code",
   "execution_count": 158,
   "metadata": {
    "collapsed": true
   },
   "outputs": [],
   "source": [
    "from sklearn.ensemble import RandomForestClassifier"
   ]
  },
  {
   "cell_type": "code",
   "execution_count": 164,
   "metadata": {
    "collapsed": false,
    "scrolled": true
   },
   "outputs": [
    {
     "data": {
      "image/png": "[encoded data removed]",
      "text/plain": [
       "<matplotlib.figure.Figure at 0x7ff56c7a7400>"
      ]
     },
     "metadata": {},
     "output_type": "display_data"
    }
   ],
   "source": [
    "clf = RandomForestClassifier(n_estimators=50, max_features='sqrt')\n",
    "clf = clf.fit(X, y)\n",
    "\n",
    "features = pd.DataFrame()\n",
    "features['feature'] = X.columns\n",
    "features['importance'] = clf.feature_importances_\n",
    "features.sort_values(by=['importance'], ascending=True, inplace=True)\n",
    "features.set_index('feature', inplace=True)\n",
    "\n",
    "features.plot(kind='barh', figsize=(25, 25))\n",
    "plt.show()"
   ]
  },
  {
   "cell_type": "code",
   "execution_count": null,
   "metadata": {
    "collapsed": true
   },
   "outputs": [],
   "source": [
    "sklearn.model_selection.RandomizedSearchCV\n",
    "from sklearn.model_selection import KFold\n",
    "\n",
    " from scipy import stats\n",
    " from scipy.stats import randint\n",
    " from sklearn.model_selection import RandomizedSearchCV\n",
    " from sklearn.metrics import \n",
    " precision_score,recall_score,accuracy_score,f1_score,roc_auc_score"
   ]
  },
  {
   "cell_type": "code",
   "execution_count": null,
   "metadata": {
    "collapsed": true
   },
   "outputs": [],
   "source": [
    "clf_xgb = xgb.XGBClassifier(objective = 'binary:logistic')\n",
    "param_dist = {'n_estimators': stats.randint(150, 1000),\n",
    "              'learning_rate': stats.uniform(0.01, 0.6),\n",
    "              'subsample': stats.uniform(0.3, 0.9),\n",
    "              'max_depth': [3, 4, 5, 6, 7, 8, 9],\n",
    "              'colsample_bytree': stats.uniform(0.5, 0.9),\n",
    "              'min_child_weight': [1, 2, 3, 4]\n",
    "             }\n",
    "\n",
    "numFolds = 5\n",
    "kfold_5 = cross_validation.KFold(n = len(X), shuffle = True, n_folds = numFolds)\n",
    "\n",
    "clf = RandomizedSearchCV(clf_xgb, \n",
    "                         param_distributions = param_dist,\n",
    "                         cv = kfold_5,  \n",
    "                         n_iter = 5, # you want 5 here not 25 if I understand you correctly \n",
    "                         scoring = 'roc_auc', \n",
    "                         error_score = 0, \n",
    "                         verbose = 3, \n",
    "                         n_jobs = -1)"
   ]
  }
 ],
 "metadata": {
  "kernelspec": {
   "display_name": "Python 3",
   "language": "python",
   "name": "python3"
  },
  "language_info": {
   "codemirror_mode": {
    "name": "ipython",
    "version": 3
   },
   "file_extension": ".py",
   "mimetype": "text/x-python",
   "name": "python",
   "nbconvert_exporter": "python",
   "pygments_lexer": "ipython3",
   "version": "3.5.2"
  }
 },
 "nbformat": 4,
 "nbformat_minor": 2
}
